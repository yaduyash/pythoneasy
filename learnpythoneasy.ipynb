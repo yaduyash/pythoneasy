{
 "cells": [
  {
   "cell_type": "code",
   "execution_count": 18,
   "id": "a564709d",
   "metadata": {},
   "outputs": [
    {
     "name": "stdout",
     "output_type": "stream",
     "text": [
      "first\n"
     ]
    }
   ],
   "source": [
    "print(\"first\")"
   ]
  },
  {
   "cell_type": "code",
   "execution_count": 19,
   "id": "3ad6d765",
   "metadata": {},
   "outputs": [
    {
     "name": "stdout",
     "output_type": "stream",
     "text": [
      "BHARAT\n"
     ]
    }
   ],
   "source": [
    "# This program prints Bharat\n",
    "\n",
    "print('BHARAT')"
   ]
  },
  {
   "cell_type": "code",
   "execution_count": 17,
   "id": "67b2517f",
   "metadata": {},
   "outputs": [
    {
     "name": "stdout",
     "output_type": "stream",
     "text": [
      "This sentence is output to the monitor\n"
     ]
    }
   ],
   "source": [
    "\n",
    "print('This sentence is output to the monitor')"
   ]
  },
  {
   "cell_type": "code",
   "execution_count": 16,
   "id": "1cf9fd21",
   "metadata": {},
   "outputs": [
    {
     "name": "stdout",
     "output_type": "stream",
     "text": [
      "The value of a is 2\n"
     ]
    }
   ],
   "source": [
    "a = 2\n",
    "print('The value of a is', a)"
   ]
  },
  {
   "cell_type": "code",
   "execution_count": 9,
   "id": "fd445320",
   "metadata": {},
   "outputs": [
    {
     "name": "stdout",
     "output_type": "stream",
     "text": [
      "2 3 4 5\n",
      "2*3*4*5\n",
      "2#3#4#5&"
     ]
    }
   ],
   "source": [
    "print(2, 3, 4, 5)\n",
    "print(2, 3, 4, 5, sep='*')\n",
    "print(2, 3, 4, 5, sep='#', end='&')"
   ]
  },
  {
   "cell_type": "code",
   "execution_count": 15,
   "id": "987c3d4d",
   "metadata": {},
   "outputs": [
    {
     "name": "stdout",
     "output_type": "stream",
     "text": [
      "The value of x is 2 and y is 4\n"
     ]
    }
   ],
   "source": [
    "x = 2; y = 4\n",
    "print('The value of x is {} and y is {}'.format(x,y))\n"
   ]
  },
  {
   "cell_type": "code",
   "execution_count": 14,
   "id": "96cb07aa",
   "metadata": {},
   "outputs": [
    {
     "name": "stdout",
     "output_type": "stream",
     "text": [
      "I love Self and Bharat\n",
      "I love Self and Bharat\n"
     ]
    }
   ],
   "source": [
    "print('I love {0} and {1}'.format('Self','Bharat'))\n",
    "print('I love {1} and {0}'.format('Bharat','Self'))"
   ]
  },
  {
   "cell_type": "code",
   "execution_count": 23,
   "id": "d8a13823",
   "metadata": {},
   "outputs": [
    {
     "name": "stdout",
     "output_type": "stream",
     "text": [
      "Namaskar Bharat, Suprabhat\n"
     ]
    }
   ],
   "source": [
    "print('Namaskar {name}, {greeting}'.format(greeting = 'Suprabhat', name = 'Bharat'))"
   ]
  },
  {
   "cell_type": "code",
   "execution_count": 24,
   "id": "008e48c8",
   "metadata": {},
   "outputs": [
    {
     "name": "stdout",
     "output_type": "stream",
     "text": [
      "The value of x is 25.12\n",
      "The value of x is 25.1234\n"
     ]
    }
   ],
   "source": [
    "x = 25.12345\n",
    "print('The value of x is %3.2f' %x)\n",
    "\n",
    "print('The value of x is %3.4f' %x)\n"
   ]
  },
  {
   "cell_type": "code",
   "execution_count": 26,
   "id": "4e46c410",
   "metadata": {},
   "outputs": [
    {
     "name": "stdout",
     "output_type": "stream",
     "text": [
      "Enter a number: 11\n"
     ]
    },
    {
     "data": {
      "text/plain": [
       "'11'"
      ]
     },
     "execution_count": 26,
     "metadata": {},
     "output_type": "execute_result"
    }
   ],
   "source": [
    "read = input('Enter a number: ')\n",
    "read\n"
   ]
  },
  {
   "cell_type": "code",
   "execution_count": 28,
   "id": "709b177f",
   "metadata": {},
   "outputs": [
    {
     "data": {
      "text/plain": [
       "11"
      ]
     },
     "execution_count": 28,
     "metadata": {},
     "output_type": "execute_result"
    }
   ],
   "source": [
    "int('11')\n"
   ]
  },
  {
   "cell_type": "code",
   "execution_count": 29,
   "id": "ac41bf06",
   "metadata": {},
   "outputs": [
    {
     "data": {
      "text/plain": [
       "56.0"
      ]
     },
     "execution_count": 29,
     "metadata": {},
     "output_type": "execute_result"
    }
   ],
   "source": [
    "float('56')"
   ]
  },
  {
   "cell_type": "code",
   "execution_count": 32,
   "id": "6be04914",
   "metadata": {},
   "outputs": [
    {
     "data": {
      "text/plain": [
       "2"
      ]
     },
     "execution_count": 32,
     "metadata": {},
     "output_type": "execute_result"
    }
   ],
   "source": [
    "eval('2%3')"
   ]
  },
  {
   "cell_type": "code",
   "execution_count": 33,
   "id": "cb83c820",
   "metadata": {},
   "outputs": [],
   "source": [
    "import math"
   ]
  },
  {
   "cell_type": "code",
   "execution_count": 34,
   "id": "a6f53fa3",
   "metadata": {},
   "outputs": [
    {
     "name": "stdout",
     "output_type": "stream",
     "text": [
      "3.141592653589793\n"
     ]
    }
   ],
   "source": [
    "print(math.pi)"
   ]
  },
  {
   "cell_type": "code",
   "execution_count": 36,
   "id": "2d71c643",
   "metadata": {},
   "outputs": [
    {
     "data": {
      "text/plain": [
       "3.141592653589793"
      ]
     },
     "execution_count": 36,
     "metadata": {},
     "output_type": "execute_result"
    }
   ],
   "source": [
    "from math import pi\n",
    "pi"
   ]
  },
  {
   "cell_type": "code",
   "execution_count": 37,
   "id": "a258cac3",
   "metadata": {},
   "outputs": [
    {
     "data": {
      "text/plain": [
       "['C:\\\\Users\\\\Admin',\n",
       " 'C:\\\\Users\\\\Admin\\\\anaconda3\\\\python38.zip',\n",
       " 'C:\\\\Users\\\\Admin\\\\anaconda3\\\\DLLs',\n",
       " 'C:\\\\Users\\\\Admin\\\\anaconda3\\\\lib',\n",
       " 'C:\\\\Users\\\\Admin\\\\anaconda3',\n",
       " '',\n",
       " 'C:\\\\Users\\\\Admin\\\\anaconda3\\\\lib\\\\site-packages',\n",
       " 'C:\\\\Users\\\\Admin\\\\anaconda3\\\\lib\\\\site-packages\\\\locket-0.2.1-py3.8.egg',\n",
       " 'C:\\\\Users\\\\Admin\\\\anaconda3\\\\lib\\\\site-packages\\\\win32',\n",
       " 'C:\\\\Users\\\\Admin\\\\anaconda3\\\\lib\\\\site-packages\\\\win32\\\\lib',\n",
       " 'C:\\\\Users\\\\Admin\\\\anaconda3\\\\lib\\\\site-packages\\\\Pythonwin',\n",
       " 'C:\\\\Users\\\\Admin\\\\anaconda3\\\\lib\\\\site-packages\\\\IPython\\\\extensions',\n",
       " 'C:\\\\Users\\\\Admin\\\\.ipython']"
      ]
     },
     "execution_count": 37,
     "metadata": {},
     "output_type": "execute_result"
    }
   ],
   "source": [
    "import sys\n",
    "sys.path\n"
   ]
  },
  {
   "cell_type": "code",
   "execution_count": 39,
   "id": "55d451ba",
   "metadata": {},
   "outputs": [
    {
     "name": "stdout",
     "output_type": "stream",
     "text": [
      "x + y = 12\n",
      "x - y = -8\n",
      "x * y = 20\n",
      "x / y = 0.2\n",
      "x // y = 0\n",
      "x ** y = 1024\n"
     ]
    }
   ],
   "source": [
    "x = 2\n",
    "y = 10\n",
    "\n",
    "\n",
    "print('x + y =',x+y)\n",
    "\n",
    "\n",
    "print('x - y =',x-y)\n",
    "\n",
    "\n",
    "print('x * y =',x*y)\n",
    "\n",
    "\n",
    "print('x / y =',x/y)\n",
    "\n",
    "\n",
    "print('x // y =',x//y)\n",
    "\n",
    "print('x ** y =',x**y)"
   ]
  },
  {
   "cell_type": "code",
   "execution_count": 40,
   "id": "d7219919",
   "metadata": {},
   "outputs": [
    {
     "name": "stdout",
     "output_type": "stream",
     "text": [
      "x > y is True\n",
      "x < y is False\n",
      "x == y is False\n",
      "x != y is True\n",
      "x >= y is True\n",
      "x <= y is False\n"
     ]
    }
   ],
   "source": [
    "x = 20\n",
    "y = 10\n",
    "\n",
    "\n",
    "print('x > y is',x>y)\n",
    "\n",
    "\n",
    "print('x < y is',x<y)\n",
    "\n",
    "\n",
    "print('x == y is',x==y)\n",
    "\n",
    "\n",
    "print('x != y is',x!=y)\n",
    "\n",
    "print('x >= y is',x>=y)\n",
    "\n",
    "\n",
    "print('x <= y is',x<=y)"
   ]
  },
  {
   "cell_type": "code",
   "execution_count": 41,
   "id": "abdb1d05",
   "metadata": {},
   "outputs": [
    {
     "name": "stdout",
     "output_type": "stream",
     "text": [
      "x and y is False\n",
      "x or y is True\n",
      "not x is False\n"
     ]
    }
   ],
   "source": [
    "x = True\n",
    "y = False\n",
    "\n",
    "print('x and y is',x and y)\n",
    "\n",
    "print('x or y is',x or y)\n",
    "\n",
    "print('not x is',not x)"
   ]
  },
  {
   "cell_type": "code",
   "execution_count": 43,
   "id": "994e5777",
   "metadata": {},
   "outputs": [
    {
     "name": "stdout",
     "output_type": "stream",
     "text": [
      "False\n",
      "True\n",
      "False\n"
     ]
    }
   ],
   "source": [
    "x1 = 10\n",
    "y1 = 10\n",
    "x2 = 'Goodfellow'\n",
    "y2 = 'Goodfellow'\n",
    "x3 = [1,2,3]\n",
    "y3 = [1,2,3]\n",
    "\n",
    "# Output: False\n",
    "print(x1 is not y1)\n",
    "\n",
    "# Output: True\n",
    "print(x2 is y2)\n",
    "\n",
    "# Output: False\n",
    "print(x3 is y3)"
   ]
  },
  {
   "cell_type": "code",
   "execution_count": 44,
   "id": "727675f3",
   "metadata": {},
   "outputs": [
    {
     "name": "stdout",
     "output_type": "stream",
     "text": [
      "True\n",
      "False\n",
      "True\n",
      "False\n"
     ]
    }
   ],
   "source": [
    "x = 'Good  Work'\n",
    "y = {1:'a',2:'b'}\n",
    "\n",
    "# Output: True\n",
    "print('G' in x)\n",
    "\n",
    "# Output: True\n",
    "print('Good' not in x)\n",
    "\n",
    "# Output: True\n",
    "print(1 in y)\n",
    "\n",
    "# Output: False\n",
    "print('a' in y)"
   ]
  },
  {
   "cell_type": "code",
   "execution_count": 49,
   "id": "17c6f3af",
   "metadata": {},
   "outputs": [
    {
     "name": "stdout",
     "output_type": "stream",
     "text": [
      "id(4) = 140711431776144\n",
      "id(b) = 140711431776144\n"
     ]
    }
   ],
   "source": [
    "\n",
    "##Python Namespace and Scope\n",
    "# Note: You may get different values for the id\n",
    "b = 4\n",
    "print('id(4) =', id(4))\n",
    "\n",
    "print('id(b) =', id(b))"
   ]
  },
  {
   "cell_type": "code",
   "execution_count": 50,
   "id": "235eb854",
   "metadata": {},
   "outputs": [
    {
     "name": "stdout",
     "output_type": "stream",
     "text": [
      "id(a) = 140711431776112\n",
      "id(a) = 140711431776144\n",
      "id(4) = 140711431776144\n",
      "id(b) = 140711431776176\n",
      "id(5) = 140711431776176\n"
     ]
    }
   ],
   "source": [
    "# Note: You may get different values for the id\n",
    "\n",
    "a = 3\n",
    "print('id(a) =', id(a))\n",
    "\n",
    "a = a+1\n",
    "print('id(a) =', id(a))\n",
    "\n",
    "print('id(4) =', id(4))\n",
    "\n",
    "b = 5\n",
    "print('id(b) =', id(b))\n",
    "print('id(5) =', id(5))"
   ]
  },
  {
   "cell_type": "code",
   "execution_count": 54,
   "id": "930ef6d4",
   "metadata": {},
   "outputs": [
    {
     "name": "stdout",
     "output_type": "stream",
     "text": [
      "4\n",
      "Good One\n",
      "[1, 2, 3]\n"
     ]
    }
   ],
   "source": [
    "a = 4\n",
    "print(a)\n",
    "a = 'Good One'\n",
    "print(a)\n",
    "a = [1,2,3]\n",
    "print(a)"
   ]
  },
  {
   "cell_type": "code",
   "execution_count": 55,
   "id": "b1b22ca2",
   "metadata": {},
   "outputs": [
    {
     "name": "stdout",
     "output_type": "stream",
     "text": [
      "Always be good to everyone\n"
     ]
    }
   ],
   "source": [
    "def show():\n",
    "    print(\"Always be good to everyone\")\n",
    "\n",
    "\n",
    "b = show\n",
    "\n",
    "b()"
   ]
  },
  {
   "cell_type": "code",
   "execution_count": 63,
   "id": "a3d7f752",
   "metadata": {},
   "outputs": [
    {
     "name": "stdout",
     "output_type": "stream",
     "text": [
      "a = 35\n",
      "a = 25\n",
      "a = 15\n"
     ]
    }
   ],
   "source": [
    "def outer_funct():\n",
    "    a = 25\n",
    "\n",
    "    def inner_funct():\n",
    "        a = 35\n",
    "        print('a =', a)\n",
    "\n",
    "    inner_funct()\n",
    "    print('a =', a)\n",
    "\n",
    "\n",
    "\n",
    "outer_funct()\n",
    "a=15\n",
    "print('a =', a)"
   ]
  },
  {
   "cell_type": "code",
   "execution_count": 68,
   "id": "a4f53172",
   "metadata": {},
   "outputs": [
    {
     "name": "stdout",
     "output_type": "stream",
     "text": [
      "b = 30\n",
      "b = 30\n",
      "b = 30\n"
     ]
    }
   ],
   "source": [
    "def outer_funct():\n",
    "    global b\n",
    "    b = 20\n",
    "\n",
    "    def inner_funct():\n",
    "        global b\n",
    "        b = 30\n",
    "        print('b =', b)\n",
    "\n",
    "    inner_funct()\n",
    "    print('b =', b)\n",
    "\n",
    "\n",
    "b = 10\n",
    "outer_funct()\n",
    "print('b =', b)"
   ]
  },
  {
   "cell_type": "code",
   "execution_count": null,
   "id": "8a2c1ea8",
   "metadata": {},
   "outputs": [],
   "source": []
  }
 ],
 "metadata": {
  "kernelspec": {
   "display_name": "Python 3",
   "language": "python",
   "name": "python3"
  },
  "language_info": {
   "codemirror_mode": {
    "name": "ipython",
    "version": 3
   },
   "file_extension": ".py",
   "mimetype": "text/x-python",
   "name": "python",
   "nbconvert_exporter": "python",
   "pygments_lexer": "ipython3",
   "version": "3.8.8"
  }
 },
 "nbformat": 4,
 "nbformat_minor": 5
}
